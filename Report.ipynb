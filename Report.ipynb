{
 "cells": [
  {
   "cell_type": "markdown",
   "metadata": {},
   "source": [
    "## Capstone Project - The Battle of Neighborhoods"
   ]
  },
  {
   "cell_type": "markdown",
   "metadata": {},
   "source": [
    "### Introduction/Business Problem"
   ]
  },
  {
   "cell_type": "markdown",
   "metadata": {},
   "source": [
    "Usually, an entrepreneur will open a branch for his company or shop if the first one is successful. For example, a restaurant owner which restaurant has many visitors will open branches for restaurants in other areas so that his income increases and his restaurant can be more widely known. The problem is, it is not easy to find a new good location to open the new restaurant. The owner tends to open the restaurant with the similar environment as the previous one and also consider the competitor in the new location.\n",
    "\n",
    "If they want to open the branch in the same city or country, maybe they still can review the place by themselves. However, if they want to open the branch in another country, it will become more troublesome. For example, in this case is How do coffee shop owners in New York find the right location to open a branch in Toronto?\n",
    "\n",
    "In this capstone project, I will try to use data science to overcome this problem. I would like to use the data to find the best location to open a new branch of the coffee shop in another country. This project will find out where is the similar location with the previous one and also the most common venue in that location to make sure the coffee shop doesn't have many competitors in the new place. The audience of this project will mainly be entrepreneurs.\n"
   ]
  },
  {
   "cell_type": "markdown",
   "metadata": {},
   "source": [
    "### Data"
   ]
  },
  {
   "cell_type": "markdown",
   "metadata": {},
   "source": [
    "In this project, I will be using one of the coffee shops in New York, that is For Five Coffee Shop, and then the data location in Toronto. I use the coffee shops data to find its latitude and longitude location, then find the environment (10 most common venues) on that location. Then, I use the Toronto neighbourhood data location to find 10 most common venues in each neighbourhood. After that, I will cluster the Toronto neighbourhood data with the coffee shop data and see in which cluster is the coffee shop will enter. After find the cluster, I will find the location which doesn’t have café or coffees shop to find the best location. All of these data is what we need to solve the problem to find the best location to open the new branch of the coffee shop"
   ]
  },
  {
   "cell_type": "markdown",
   "metadata": {},
   "source": [
    "### Methodology"
   ]
  },
  {
   "cell_type": "markdown",
   "metadata": {},
   "source": [
    "In this section of the discussion, I will analyze neighbourhood in Toronto that have coffee shops as the most common venues. With these I can get an insight about the spread of coffee shops in Toronto. I will divide it into 3 parts, namely the place that has a coffee shop as the first most common place, the second and the third and then analyze those three."
   ]
  },
  {
   "cell_type": "markdown",
   "metadata": {},
   "source": [
    "#### 1. Venues with the Coffee Shops as the 1st Most Common Venues"
   ]
  },
  {
   "cell_type": "markdown",
   "metadata": {},
   "source": [
    "<img src='https://github.com/vastatorspes/ibm-project/blob/master/Images/image1.png?raw=true'>"
   ]
  },
  {
   "cell_type": "markdown",
   "metadata": {},
   "source": [
    "From the picture above, we can see a lot of neighborhoods with coffee shops (purple dots) in the middle of Toronto. We can assume that those neighborhoods are very popular or crowded so that many people want to enjoy the coffee. Opening the new coffee shop there might be good because we have a lot of customers, but since we are only the newcomer from New York, maybe opening a new shops with so many competitors is not a good idea."
   ]
  },
  {
   "cell_type": "markdown",
   "metadata": {},
   "source": [
    "#### 2. Venues with the Coffee Shops as the 2nd Most Common Venues"
   ]
  },
  {
   "cell_type": "markdown",
   "metadata": {},
   "source": [
    "<img src='https://github.com/vastatorspes/ibm-project/blob/master/Images/image2.png?raw=true'>"
   ]
  },
  {
   "cell_type": "markdown",
   "metadata": {},
   "source": [
    "Venues with coffee shops as the 2nd most common venues are more scattered than the first one. It is support my basic knowledge that many coffee shop choose to not open their shop within the neighborhood with many competitors."
   ]
  },
  {
   "cell_type": "markdown",
   "metadata": {},
   "source": [
    "#### 3. Venues with the Coffee Shops as the 3rd Most Common Venues"
   ]
  },
  {
   "cell_type": "markdown",
   "metadata": {},
   "source": [
    "<img src='https://github.com/vastatorspes/ibm-project/blob/master/Images/image3.png?raw=true'>"
   ]
  },
  {
   "cell_type": "markdown",
   "metadata": {},
   "source": [
    "Venues with coffee shops as the 3rd most common venues are even more scattered than the second one. I think it is good to open the branch of the coffee shop within the neighborhood with least competitor so that as a newcomer we could survive."
   ]
  },
  {
   "cell_type": "markdown",
   "metadata": {},
   "source": [
    "### KMeans Clustering"
   ]
  },
  {
   "cell_type": "markdown",
   "metadata": {},
   "source": [
    "Now I am going to cluster the neighborhood in Toronto to find out which neighborhood is similar with the Coffee Shop neighborhood in New York. It is best to open the new branch with similar environment because we already now that that kind of environment bring the Coffee Shop a good sale in New York <br>\n",
    "\n",
    "Here I clustered the neighborhood in Toronto into 10 clusters and will choose the cluster where the 'For Five Coffee Shop\" get into. After find the cluster, I will find the location which doesn’t have café or coffees shop to find the best location. All of these data is what we need to solve the problem to find the best location to open the new branch of the coffee shop."
   ]
  },
  {
   "cell_type": "markdown",
   "metadata": {},
   "source": [
    "### Results"
   ]
  },
  {
   "cell_type": "markdown",
   "metadata": {},
   "source": [
    "#### 1. Clustering Result"
   ]
  },
  {
   "cell_type": "markdown",
   "metadata": {},
   "source": [
    "<img src='https://github.com/vastatorspes/ibm-project/blob/master/Images/cluster.png?raw=true'>"
   ]
  },
  {
   "cell_type": "markdown",
   "metadata": {},
   "source": [
    "Our Coffee Shop is clustered into the first cluster(purple dots). It seems we are lucky enough because we have many similar neighborhood in Toronto. There are 76 similar neighborhoods out of 103 neighborhood in Toronto. The next step is to eliminate the neighborhoods which already have Caffee Shop or Cafe as the most commont venues"
   ]
  },
  {
   "cell_type": "markdown",
   "metadata": {},
   "source": [
    "#### 2. Filtering Result"
   ]
  },
  {
   "cell_type": "markdown",
   "metadata": {},
   "source": [
    "<img src='https://github.com/vastatorspes/ibm-project/blob/master/Images/filter.png?raw=true'>"
   ]
  },
  {
   "cell_type": "markdown",
   "metadata": {},
   "source": [
    "After the filter, we found 24 suit neighborhoods (red dots) in Toronto to open our Coffee Shop. Those Neighborhood are:\n",
    "1. Parkview Hill\n",
    "2. Woodbine Heights\n",
    "3. Guildwood\n",
    "4. Cedarbrae\n",
    "5. Hillcrest Village\n",
    "6. Thorncliffe Park\n",
    "7. Downsview\n",
    "8. Downsview\n",
    "9. India Bazaar\n",
    "10. Cliffside\n",
    "11. Downsview\n",
    "12. Del Ray\n",
    "13. Downsview\n",
    "14. Roselawn\n",
    "15. Dorset Park\n",
    "16. Davisville North\n",
    "17. Forest Hill North & West\n",
    "18. Wexford\n",
    "19. Agincourt\n",
    "20. Clarks Corners\n",
    "21. Moore Park\n",
    "22. South Steeles\n",
    "23. Business reply mail Processing Centre\n",
    "24. Mimico NW"
   ]
  },
  {
   "cell_type": "markdown",
   "metadata": {},
   "source": [
    "### Discussion"
   ]
  },
  {
   "cell_type": "markdown",
   "metadata": {},
   "source": [
    "As I already found the 24 suit neighborhood to open the new branch. However, this does not guarantee the success of the coffee shop that will be opened. Another observation is still need to be done and further discussion is a must. I recommend to the Coffee Shop owner to do the further observation such as the rent price for the Coffee Shop, local people preference and many more. Based on the result, I would recommend to take a deeper look into the red dots which is not to far away from the center of Toronto because it may have so many opportunities that the people will enjoy the coffee."
   ]
  },
  {
   "cell_type": "markdown",
   "metadata": {},
   "source": [
    "### Conclusion"
   ]
  },
  {
   "cell_type": "markdown",
   "metadata": {},
   "source": [
    "In this project, I analyzed which neighborhood in Toronto will be the most suitable place to open based on the neighborhood similarity of the current shop. KMeans clustering algorithm successfully clustered the neighborhood into 10 clusters. The filtering method successfully separate the place with many coffee shops and cafe with the place with few coffee shops. Finally, I could get the 24 suitable neighborhoods for the further review. "
   ]
  }
 ],
 "metadata": {
  "kernelspec": {
   "display_name": "Python 3",
   "language": "python",
   "name": "python3"
  },
  "language_info": {
   "codemirror_mode": {
    "name": "ipython",
    "version": 3
   },
   "file_extension": ".py",
   "mimetype": "text/x-python",
   "name": "python",
   "nbconvert_exporter": "python",
   "pygments_lexer": "ipython3",
   "version": "3.7.4"
  }
 },
 "nbformat": 4,
 "nbformat_minor": 2
}
